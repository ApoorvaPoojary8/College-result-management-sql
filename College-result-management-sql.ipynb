{
 "cells": [
  {
   "cell_type": "code",
   "execution_count": 0,
   "metadata": {
    "application/vnd.databricks.v1+cell": {
     "cellMetadata": {
      "byteLimit": 2048000,
      "implicitDf": true,
      "rowLimit": 10000
     },
     "inputWidgets": {},
     "nuid": "59efa5d4-b6af-41c8-87f3-d87930266cbe",
     "showTitle": false,
     "tableResultSettingsMap": {},
     "title": ""
    }
   },
   "outputs": [],
   "source": [
    "%sql\n",
    "-- Creating Students Table\n",
    "CREATE TABLE Students (\n",
    "    student_id INT ,\n",
    "    name VARCHAR(50),\n",
    "    department VARCHAR(10)\n",
    ");\n"
   ]
  },
  {
   "cell_type": "code",
   "execution_count": 0,
   "metadata": {
    "application/vnd.databricks.v1+cell": {
     "cellMetadata": {
      "byteLimit": 2048000,
      "implicitDf": true,
      "rowLimit": 10000
     },
     "inputWidgets": {},
     "nuid": "20a619bf-0a2e-478c-907d-cfdd28431d2a",
     "showTitle": false,
     "tableResultSettingsMap": {},
     "title": ""
    }
   },
   "outputs": [],
   "source": [
    "%sql\n",
    "-- Creating Subjects Table\n",
    "CREATE TABLE Subjects (\n",
    "    subject_id INT,\n",
    "    subject_name VARCHAR(50)\n",
    ");\n"
   ]
  },
  {
   "cell_type": "code",
   "execution_count": 0,
   "metadata": {
    "application/vnd.databricks.v1+cell": {
     "cellMetadata": {
      "byteLimit": 2048000,
      "implicitDf": true,
      "rowLimit": 10000
     },
     "inputWidgets": {},
     "nuid": "6d50c32d-48eb-4e1f-aefc-0307f7634ef0",
     "showTitle": false,
     "tableResultSettingsMap": {},
     "title": ""
    }
   },
   "outputs": [],
   "source": [
    "%sql\n",
    "-- Creat Marks Table\n",
    "CREATE TABLE Marks (\n",
    "    student_id INT,\n",
    "    subject_id INT,\n",
    "    marks INT\n",
    ");\n"
   ]
  },
  {
   "cell_type": "code",
   "execution_count": 0,
   "metadata": {
    "application/vnd.databricks.v1+cell": {
     "cellMetadata": {
      "byteLimit": 2048000,
      "implicitDf": true,
      "rowLimit": 10000
     },
     "inputWidgets": {},
     "nuid": "f0efa787-3434-4bbb-bdfb-4b98891bcbfc",
     "showTitle": false,
     "tableResultSettingsMap": {},
     "title": ""
    }
   },
   "outputs": [
    {
     "output_type": "display_data",
     "data": {
      "text/html": [
       "<style scoped>\n",
       "  .table-result-container {\n",
       "    max-height: 300px;\n",
       "    overflow: auto;\n",
       "  }\n",
       "  table, th, td {\n",
       "    border: 1px solid black;\n",
       "    border-collapse: collapse;\n",
       "  }\n",
       "  th, td {\n",
       "    padding: 5px;\n",
       "  }\n",
       "  th {\n",
       "    text-align: left;\n",
       "  }\n",
       "</style><div class='table-result-container'><table class='table-result'><thead style='background-color: white'><tr><th>num_affected_rows</th><th>num_inserted_rows</th></tr></thead><tbody><tr><td>30</td><td>30</td></tr></tbody></table></div>"
      ]
     },
     "metadata": {
      "application/vnd.databricks.v1+output": {
       "addedWidgets": {},
       "aggData": [],
       "aggError": "",
       "aggOverflow": false,
       "aggSchema": [],
       "aggSeriesLimitReached": false,
       "aggType": "",
       "arguments": {},
       "columnCustomDisplayInfos": {},
       "data": [
        [
         30,
         30
        ]
       ],
       "datasetInfos": [
        {
         "name": "_sqldf",
         "schema": {
          "fields": [
           {
            "metadata": {},
            "name": "num_affected_rows",
            "nullable": true,
            "type": "long"
           },
           {
            "metadata": {},
            "name": "num_inserted_rows",
            "nullable": true,
            "type": "long"
           }
          ],
          "type": "struct"
         },
         "tableIdentifier": null,
         "typeStr": "pyspark.sql.connect.dataframe.DataFrame"
        }
       ],
       "dbfsResultPath": null,
       "isJsonSchema": true,
       "metadata": {
        "createTempViewForImplicitDf": true,
        "dataframeName": "_sqldf",
        "executionCount": 22
       },
       "overflow": false,
       "plotOptions": {
        "customPlotOptions": {},
        "displayType": "table",
        "pivotAggregation": null,
        "pivotColumns": null,
        "xColumns": null,
        "yColumns": null
       },
       "removedWidgets": [],
       "schema": [
        {
         "metadata": "{}",
         "name": "num_affected_rows",
         "type": "\"long\""
        },
        {
         "metadata": "{}",
         "name": "num_inserted_rows",
         "type": "\"long\""
        }
       ],
       "type": "table"
      }
     },
     "output_type": "display_data"
    }
   ],
   "source": [
    "%sql\n",
    "-- Inserting  realistic data into Students\n",
    "INSERT INTO Students (student_id, name, department) VALUES\n",
    "(1, 'Aarav', 'ECE'),\n",
    "(2, 'Anaya', 'ME'),\n",
    "(3, 'Rohan', 'PSE'),\n",
    "(4, 'Isha', 'CIV'),\n",
    "(5, 'Vihaan', 'ECE'),\n",
    "(6, 'Meera', 'CSE'),\n",
    "(7, 'Aryan', 'CSE'),\n",
    "(8, 'Diya', 'ME'),\n",
    "(9, 'Aditya', 'CIV'),\n",
    "(10, 'Kavya', 'ME'),\n",
    "(11, 'Riya', 'PSE'),\n",
    "(12, 'Arjun', 'CSE'),\n",
    "(13, 'Sneha', 'CIV'),\n",
    "(14, 'Rahul', 'ECE'),\n",
    "(15, 'Pooja', 'ME'),\n",
    "(16, 'Nikhil', 'CSE'),\n",
    "(17, 'Tanya', 'ME'),\n",
    "(18, 'Dev', 'PSE'),\n",
    "(19, 'Aisha', 'CIV'),\n",
    "(20, 'Kiran', 'CSE'),\n",
    "(21, 'Neha', 'ME'),\n",
    "(22, 'Aman', 'ME'),\n",
    "(23, 'Priya', 'PSE'),\n",
    "(24, 'Varun', 'PSE'),\n",
    "(25, 'Shreya', 'ME'),\n",
    "(26, 'Manav', 'ECE'),\n",
    "(27, 'Sakshi', 'PSE'),\n",
    "(28, 'Siddharth', 'CSE'),\n",
    "(29, 'Sanjana', 'CIV'),\n",
    "(30, 'Harsh', 'PSE');\n"
   ]
  },
  {
   "cell_type": "code",
   "execution_count": 0,
   "metadata": {
    "application/vnd.databricks.v1+cell": {
     "cellMetadata": {
      "byteLimit": 2048000,
      "implicitDf": true,
      "rowLimit": 10000
     },
     "inputWidgets": {},
     "nuid": "af06dc1a-995d-404c-8315-d81e50652196",
     "showTitle": false,
     "tableResultSettingsMap": {},
     "title": ""
    }
   },
   "outputs": [
    {
     "output_type": "display_data",
     "data": {
      "text/html": [
       "<style scoped>\n",
       "  .table-result-container {\n",
       "    max-height: 300px;\n",
       "    overflow: auto;\n",
       "  }\n",
       "  table, th, td {\n",
       "    border: 1px solid black;\n",
       "    border-collapse: collapse;\n",
       "  }\n",
       "  th, td {\n",
       "    padding: 5px;\n",
       "  }\n",
       "  th {\n",
       "    text-align: left;\n",
       "  }\n",
       "</style><div class='table-result-container'><table class='table-result'><thead style='background-color: white'><tr><th>num_affected_rows</th><th>num_inserted_rows</th></tr></thead><tbody><tr><td>5</td><td>5</td></tr></tbody></table></div>"
      ]
     },
     "metadata": {
      "application/vnd.databricks.v1+output": {
       "addedWidgets": {},
       "aggData": [],
       "aggError": "",
       "aggOverflow": false,
       "aggSchema": [],
       "aggSeriesLimitReached": false,
       "aggType": "",
       "arguments": {},
       "columnCustomDisplayInfos": {},
       "data": [
        [
         5,
         5
        ]
       ],
       "datasetInfos": [
        {
         "name": "_sqldf",
         "schema": {
          "fields": [
           {
            "metadata": {},
            "name": "num_affected_rows",
            "nullable": true,
            "type": "long"
           },
           {
            "metadata": {},
            "name": "num_inserted_rows",
            "nullable": true,
            "type": "long"
           }
          ],
          "type": "struct"
         },
         "tableIdentifier": null,
         "typeStr": "pyspark.sql.connect.dataframe.DataFrame"
        }
       ],
       "dbfsResultPath": null,
       "isJsonSchema": true,
       "metadata": {
        "createTempViewForImplicitDf": true,
        "dataframeName": "_sqldf",
        "executionCount": 23
       },
       "overflow": false,
       "plotOptions": {
        "customPlotOptions": {},
        "displayType": "table",
        "pivotAggregation": null,
        "pivotColumns": null,
        "xColumns": null,
        "yColumns": null
       },
       "removedWidgets": [],
       "schema": [
        {
         "metadata": "{}",
         "name": "num_affected_rows",
         "type": "\"long\""
        },
        {
         "metadata": "{}",
         "name": "num_inserted_rows",
         "type": "\"long\""
        }
       ],
       "type": "table"
      }
     },
     "output_type": "display_data"
    }
   ],
   "source": [
    "%sql\n",
    "-- Inserting data into Subjects\n",
    "INSERT INTO Subjects (subject_id, subject_name) VALUES\n",
    "(1, 'Maths'),\n",
    "(2, 'Physics'),\n",
    "(3, 'Chemistry'),\n",
    "(4, 'Biology'),\n",
    "(5, 'English');"
   ]
  },
  {
   "cell_type": "code",
   "execution_count": 0,
   "metadata": {
    "application/vnd.databricks.v1+cell": {
     "cellMetadata": {
      "byteLimit": 2048000,
      "implicitDf": true,
      "rowLimit": 10000
     },
     "inputWidgets": {},
     "nuid": "1825f85b-d687-4a33-96d9-f28fb8f78ad5",
     "showTitle": false,
     "tableResultSettingsMap": {},
     "title": ""
    }
   },
   "outputs": [
    {
     "output_type": "display_data",
     "data": {
      "text/html": [
       "<style scoped>\n",
       "  .table-result-container {\n",
       "    max-height: 300px;\n",
       "    overflow: auto;\n",
       "  }\n",
       "  table, th, td {\n",
       "    border: 1px solid black;\n",
       "    border-collapse: collapse;\n",
       "  }\n",
       "  th, td {\n",
       "    padding: 5px;\n",
       "  }\n",
       "  th {\n",
       "    text-align: left;\n",
       "  }\n",
       "</style><div class='table-result-container'><table class='table-result'><thead style='background-color: white'><tr><th>num_affected_rows</th><th>num_inserted_rows</th></tr></thead><tbody><tr><td>150</td><td>150</td></tr></tbody></table></div>"
      ]
     },
     "metadata": {
      "application/vnd.databricks.v1+output": {
       "addedWidgets": {},
       "aggData": [],
       "aggError": "",
       "aggOverflow": false,
       "aggSchema": [],
       "aggSeriesLimitReached": false,
       "aggType": "",
       "arguments": {},
       "columnCustomDisplayInfos": {},
       "data": [
        [
         150,
         150
        ]
       ],
       "datasetInfos": [
        {
         "name": "_sqldf",
         "schema": {
          "fields": [
           {
            "metadata": {},
            "name": "num_affected_rows",
            "nullable": true,
            "type": "long"
           },
           {
            "metadata": {},
            "name": "num_inserted_rows",
            "nullable": true,
            "type": "long"
           }
          ],
          "type": "struct"
         },
         "tableIdentifier": null,
         "typeStr": "pyspark.sql.connect.dataframe.DataFrame"
        }
       ],
       "dbfsResultPath": null,
       "isJsonSchema": true,
       "metadata": {
        "createTempViewForImplicitDf": true,
        "dataframeName": "_sqldf",
        "executionCount": 24
       },
       "overflow": false,
       "plotOptions": {
        "customPlotOptions": {},
        "displayType": "table",
        "pivotAggregation": null,
        "pivotColumns": null,
        "xColumns": null,
        "yColumns": null
       },
       "removedWidgets": [],
       "schema": [
        {
         "metadata": "{}",
         "name": "num_affected_rows",
         "type": "\"long\""
        },
        {
         "metadata": "{}",
         "name": "num_inserted_rows",
         "type": "\"long\""
        }
       ],
       "type": "table"
      }
     },
     "output_type": "display_data"
    }
   ],
   "source": [
    "%sql\n",
    "-- Inserting data into Marks\n",
    "INSERT INTO Marks (student_id, subject_id, marks) VALUES\n",
    "(1, 1, 32), (1, 2, 44), (1, 3, 50), (1, 4, 50), (1, 5, 86),\n",
    "(2, 1, 86), (2, 2, 82), (2, 3, 72), (2, 4, 72), (2, 5, 82),\n",
    "(3, 1, 98), (3, 2, 85), (3, 3, 77), (3, 4, 66), (3, 5, 78),\n",
    "(4, 1, 68), (4, 2, 57), (4, 3, 93), (4, 4, 83), (4, 5, 67),\n",
    "(5, 1, 38), (5, 2, 69), (5, 3, 87), (5, 4, 59), (5, 5, 41),\n",
    "(6, 1, 91), (6, 2, 61), (6, 3, 97), (6, 4, 95), (6, 5, 30),\n",
    "(7, 1, 41), (7, 2, 66), (7, 3, 54), (7, 4, 32), (7, 5, 71),\n",
    "(8, 1, 64), (8, 2, 56), (8, 3, 84), (8, 4, 93), (8, 5, 82),\n",
    "(9, 1, 51), (9, 2, 69), (9, 3, 83), (9, 4, 55), (9, 5, 44),\n",
    "(10, 1, 63), (10, 2, 97), (10, 3, 41), (10, 4, 84), (10, 5, 54),\n",
    "(11, 1, 47), (11, 2, 43), (11, 3, 41), (11, 4, 45), (11, 5, 39),\n",
    "(12, 1, 96), (12, 2, 64), (12, 3, 72), (12, 4, 35), (12, 5, 68),\n",
    "(13, 1, 86), (13, 2, 93), (13, 3, 100), (13, 4, 99), (13, 5, 83),\n",
    "(14, 1, 95), (14, 2, 70), (14, 3, 30), (14, 4, 44), (14, 5, 61),\n",
    "(15, 1, 46), (15, 2, 44), (15, 3, 40), (15, 4, 88), (15, 5, 78),\n",
    "(16, 1, 31), (16, 2, 76), (16, 3, 47), (16, 4, 50), (16, 5, 73),\n",
    "(17, 1, 71), (17, 2, 74), (17, 3, 69), (17, 4, 66), (17, 5, 42),\n",
    "(18, 1, 55), (18, 2, 72), (18, 3, 80), (18, 4, 61), (18, 5, 37),\n",
    "(19, 1, 92), (19, 2, 93), (19, 3, 94), (19, 4, 80), (19, 5, 92),\n",
    "(20, 1, 69), (20, 2, 95), (20, 3, 62), (20, 4, 44), (20, 5, 31),\n",
    "(21, 1, 87), (21, 2, 51), (21, 3, 33), (21, 4, 88), (21, 5, 55),\n",
    "(22, 1, 66), (22, 2, 35), (22, 3, 77), (22, 4, 76), (22, 5, 45),\n",
    "(23, 1, 79), (23, 2, 88), (23, 3, 85), (23, 4, 67), (23, 5, 64),\n",
    "(24, 1, 92), (24, 2, 40), (24, 3, 68), (24, 4, 92), (24, 5, 79),\n",
    "(25, 1, 97), (25, 2, 75), (25, 3, 96), (25, 4, 85), (25, 5, 62),\n",
    "(26, 1, 89), (26, 2, 78), (26, 3, 93), (26, 4, 73), (26, 5, 50),\n",
    "(27, 1, 76), (27, 2, 88), (27, 3, 69), (27, 4, 71), (27, 5, 90),\n",
    "(28, 1, 60), (28, 2, 94), (28, 3, 91), (28, 4, 58), (28, 5, 66),\n",
    "(29, 1, 93), (29, 2, 85), (29, 3, 65), (29, 4, 77), (29, 5, 88),\n",
    "(30, 1, 75), (30, 2, 79), (30, 3, 88), (30, 4, 63), (30, 5, 47);\n"
   ]
  },
  {
   "cell_type": "code",
   "execution_count": 0,
   "metadata": {
    "application/vnd.databricks.v1+cell": {
     "cellMetadata": {
      "byteLimit": 2048000,
      "implicitDf": true,
      "rowLimit": 10000
     },
     "inputWidgets": {},
     "nuid": "8e5e729e-7d3f-4c03-bff0-87a498a273bd",
     "showTitle": false,
     "tableResultSettingsMap": {},
     "title": ""
    }
   },
   "outputs": [
    {
     "output_type": "display_data",
     "data": {
      "text/html": [
       "<style scoped>\n",
       "  .table-result-container {\n",
       "    max-height: 300px;\n",
       "    overflow: auto;\n",
       "  }\n",
       "  table, th, td {\n",
       "    border: 1px solid black;\n",
       "    border-collapse: collapse;\n",
       "  }\n",
       "  th, td {\n",
       "    padding: 5px;\n",
       "  }\n",
       "  th {\n",
       "    text-align: left;\n",
       "  }\n",
       "</style><div class='table-result-container'><table class='table-result'><thead style='background-color: white'><tr><th>student_id</th><th>name</th><th>department</th></tr></thead><tbody><tr><td>6</td><td>Meera</td><td>CSE</td></tr><tr><td>7</td><td>Aryan</td><td>CSE</td></tr><tr><td>12</td><td>Arjun</td><td>CSE</td></tr><tr><td>16</td><td>Nikhil</td><td>CSE</td></tr><tr><td>20</td><td>Kiran</td><td>CSE</td></tr><tr><td>28</td><td>Siddharth</td><td>CSE</td></tr></tbody></table></div>"
      ]
     },
     "metadata": {
      "application/vnd.databricks.v1+output": {
       "addedWidgets": {},
       "aggData": [],
       "aggError": "",
       "aggOverflow": false,
       "aggSchema": [],
       "aggSeriesLimitReached": false,
       "aggType": "",
       "arguments": {},
       "columnCustomDisplayInfos": {},
       "data": [
        [
         6,
         "Meera",
         "CSE"
        ],
        [
         7,
         "Aryan",
         "CSE"
        ],
        [
         12,
         "Arjun",
         "CSE"
        ],
        [
         16,
         "Nikhil",
         "CSE"
        ],
        [
         20,
         "Kiran",
         "CSE"
        ],
        [
         28,
         "Siddharth",
         "CSE"
        ]
       ],
       "datasetInfos": [
        {
         "name": "_sqldf",
         "schema": {
          "fields": [
           {
            "metadata": {},
            "name": "student_id",
            "nullable": true,
            "type": "integer"
           },
           {
            "metadata": {
             "__CHAR_VARCHAR_TYPE_STRING": "varchar(50)"
            },
            "name": "name",
            "nullable": true,
            "type": "string"
           },
           {
            "metadata": {
             "__CHAR_VARCHAR_TYPE_STRING": "varchar(10)"
            },
            "name": "department",
            "nullable": true,
            "type": "string"
           }
          ],
          "type": "struct"
         },
         "tableIdentifier": null,
         "typeStr": "pyspark.sql.connect.dataframe.DataFrame"
        }
       ],
       "dbfsResultPath": null,
       "isJsonSchema": true,
       "metadata": {
        "createTempViewForImplicitDf": true,
        "dataframeName": "_sqldf",
        "executionCount": 27
       },
       "overflow": false,
       "plotOptions": {
        "customPlotOptions": {},
        "displayType": "table",
        "pivotAggregation": null,
        "pivotColumns": null,
        "xColumns": null,
        "yColumns": null
       },
       "removedWidgets": [],
       "schema": [
        {
         "metadata": "{}",
         "name": "student_id",
         "type": "\"integer\""
        },
        {
         "metadata": "{\"__CHAR_VARCHAR_TYPE_STRING\": \"varchar(50)\"}",
         "name": "name",
         "type": "\"string\""
        },
        {
         "metadata": "{\"__CHAR_VARCHAR_TYPE_STRING\": \"varchar(10)\"}",
         "name": "department",
         "type": "\"string\""
        }
       ],
       "type": "table"
      }
     },
     "output_type": "display_data"
    }
   ],
   "source": [
    "%sql\n",
    "--1. Display all students from the 'CSE' department.\n",
    "select *\n",
    " from students \n",
    " where department=\"CSE\""
   ]
  },
  {
   "cell_type": "code",
   "execution_count": 0,
   "metadata": {
    "application/vnd.databricks.v1+cell": {
     "cellMetadata": {
      "byteLimit": 2048000,
      "implicitDf": true,
      "rowLimit": 10000
     },
     "inputWidgets": {},
     "nuid": "0fcc41f9-c53d-4ca3-aa1b-01bdbd5c9dbf",
     "showTitle": false,
     "tableResultSettingsMap": {},
     "title": ""
    }
   },
   "outputs": [
    {
     "output_type": "display_data",
     "data": {
      "text/html": [
       "<style scoped>\n",
       "  .table-result-container {\n",
       "    max-height: 300px;\n",
       "    overflow: auto;\n",
       "  }\n",
       "  table, th, td {\n",
       "    border: 1px solid black;\n",
       "    border-collapse: collapse;\n",
       "  }\n",
       "  th, td {\n",
       "    padding: 5px;\n",
       "  }\n",
       "  th {\n",
       "    text-align: left;\n",
       "  }\n",
       "</style><div class='table-result-container'><table class='table-result'><thead style='background-color: white'><tr><th>student_id</th><th>name</th></tr></thead><tbody><tr><td>2</td><td>Anaya</td></tr><tr><td>3</td><td>Rohan</td></tr><tr><td>6</td><td>Meera</td></tr><tr><td>12</td><td>Arjun</td></tr><tr><td>13</td><td>Sneha</td></tr><tr><td>14</td><td>Rahul</td></tr><tr><td>19</td><td>Aisha</td></tr><tr><td>21</td><td>Neha</td></tr><tr><td>24</td><td>Varun</td></tr><tr><td>25</td><td>Shreya</td></tr><tr><td>26</td><td>Manav</td></tr><tr><td>29</td><td>Sanjana</td></tr></tbody></table></div>"
      ]
     },
     "metadata": {
      "application/vnd.databricks.v1+output": {
       "addedWidgets": {},
       "aggData": [],
       "aggError": "",
       "aggOverflow": false,
       "aggSchema": [],
       "aggSeriesLimitReached": false,
       "aggType": "",
       "arguments": {},
       "columnCustomDisplayInfos": {},
       "data": [
        [
         2,
         "Anaya"
        ],
        [
         3,
         "Rohan"
        ],
        [
         6,
         "Meera"
        ],
        [
         12,
         "Arjun"
        ],
        [
         13,
         "Sneha"
        ],
        [
         14,
         "Rahul"
        ],
        [
         19,
         "Aisha"
        ],
        [
         21,
         "Neha"
        ],
        [
         24,
         "Varun"
        ],
        [
         25,
         "Shreya"
        ],
        [
         26,
         "Manav"
        ],
        [
         29,
         "Sanjana"
        ]
       ],
       "datasetInfos": [
        {
         "name": "_sqldf",
         "schema": {
          "fields": [
           {
            "metadata": {},
            "name": "student_id",
            "nullable": true,
            "type": "integer"
           },
           {
            "metadata": {
             "__CHAR_VARCHAR_TYPE_STRING": "varchar(50)"
            },
            "name": "name",
            "nullable": true,
            "type": "string"
           }
          ],
          "type": "struct"
         },
         "tableIdentifier": null,
         "typeStr": "pyspark.sql.connect.dataframe.DataFrame"
        }
       ],
       "dbfsResultPath": null,
       "isJsonSchema": true,
       "metadata": {
        "createTempViewForImplicitDf": true,
        "dataframeName": "_sqldf",
        "executionCount": 35
       },
       "overflow": false,
       "plotOptions": {
        "customPlotOptions": {},
        "displayType": "table",
        "pivotAggregation": null,
        "pivotColumns": null,
        "xColumns": null,
        "yColumns": null
       },
       "removedWidgets": [],
       "schema": [
        {
         "metadata": "{}",
         "name": "student_id",
         "type": "\"integer\""
        },
        {
         "metadata": "{\"__CHAR_VARCHAR_TYPE_STRING\": \"varchar(50)\"}",
         "name": "name",
         "type": "\"string\""
        }
       ],
       "type": "table"
      }
     },
     "output_type": "display_data"
    }
   ],
   "source": [
    "%sql\n",
    "--2. Find students who scored more than 80 in \"Maths\".\n",
    "SELECT  M.student_id,S.name\n",
    "FROM students as S join marks AS M ON s.student_id=M.student_id \n",
    "join subjects AS Sub ON M.subject_id=sub.subject_id\n",
    "WHERE M.marks>80 AND sub.subject_name=\"Maths\""
   ]
  },
  {
   "cell_type": "code",
   "execution_count": 0,
   "metadata": {
    "application/vnd.databricks.v1+cell": {
     "cellMetadata": {
      "byteLimit": 2048000,
      "implicitDf": true,
      "rowLimit": 10000
     },
     "inputWidgets": {},
     "nuid": "dc76803c-d2b5-4611-8d8d-ebfbd8b3109a",
     "showTitle": false,
     "tableResultSettingsMap": {},
     "title": ""
    }
   },
   "outputs": [
    {
     "output_type": "display_data",
     "data": {
      "text/html": [
       "<style scoped>\n",
       "  .table-result-container {\n",
       "    max-height: 300px;\n",
       "    overflow: auto;\n",
       "  }\n",
       "  table, th, td {\n",
       "    border: 1px solid black;\n",
       "    border-collapse: collapse;\n",
       "  }\n",
       "  th, td {\n",
       "    padding: 5px;\n",
       "  }\n",
       "  th {\n",
       "    text-align: left;\n",
       "  }\n",
       "</style><div class='table-result-container'><table class='table-result'><thead style='background-color: white'><tr><th>name</th><th>department</th><th>student_id</th></tr></thead><tbody><tr><td>Rohan</td><td>PSE</td><td>3</td></tr><tr><td>Vihaan</td><td>ECE</td><td>5</td></tr><tr><td>Aryan</td><td>CSE</td><td>7</td></tr><tr><td>Tanya</td><td>ME</td><td>17</td></tr><tr><td>Kiran</td><td>CSE</td><td>20</td></tr><tr><td>Aman</td><td>ME</td><td>22</td></tr><tr><td>Manav</td><td>ECE</td><td>26</td></tr><tr><td>Sanjana</td><td>CIV</td><td>29</td></tr></tbody></table></div>"
      ]
     },
     "metadata": {
      "application/vnd.databricks.v1+output": {
       "addedWidgets": {},
       "aggData": [],
       "aggError": "",
       "aggOverflow": false,
       "aggSchema": [],
       "aggSeriesLimitReached": false,
       "aggType": "",
       "arguments": {},
       "columnCustomDisplayInfos": {},
       "data": [
        [
         "Rohan",
         "PSE",
         3
        ],
        [
         "Vihaan",
         "ECE",
         5
        ],
        [
         "Aryan",
         "CSE",
         7
        ],
        [
         "Tanya",
         "ME",
         17
        ],
        [
         "Kiran",
         "CSE",
         20
        ],
        [
         "Aman",
         "ME",
         22
        ],
        [
         "Manav",
         "ECE",
         26
        ],
        [
         "Sanjana",
         "CIV",
         29
        ]
       ],
       "datasetInfos": [
        {
         "name": "_sqldf",
         "schema": {
          "fields": [
           {
            "metadata": {
             "__CHAR_VARCHAR_TYPE_STRING": "varchar(50)"
            },
            "name": "name",
            "nullable": true,
            "type": "string"
           },
           {
            "metadata": {
             "__CHAR_VARCHAR_TYPE_STRING": "varchar(10)"
            },
            "name": "department",
            "nullable": true,
            "type": "string"
           },
           {
            "metadata": {},
            "name": "student_id",
            "nullable": true,
            "type": "integer"
           }
          ],
          "type": "struct"
         },
         "tableIdentifier": null,
         "typeStr": "pyspark.sql.connect.dataframe.DataFrame"
        }
       ],
       "dbfsResultPath": null,
       "isJsonSchema": true,
       "metadata": {
        "createTempViewForImplicitDf": true,
        "dataframeName": "_sqldf",
        "executionCount": 38
       },
       "overflow": false,
       "plotOptions": {
        "customPlotOptions": {},
        "displayType": "table",
        "pivotAggregation": null,
        "pivotColumns": null,
        "xColumns": null,
        "yColumns": null
       },
       "removedWidgets": [],
       "schema": [
        {
         "metadata": "{\"__CHAR_VARCHAR_TYPE_STRING\": \"varchar(50)\"}",
         "name": "name",
         "type": "\"string\""
        },
        {
         "metadata": "{\"__CHAR_VARCHAR_TYPE_STRING\": \"varchar(10)\"}",
         "name": "department",
         "type": "\"string\""
        },
        {
         "metadata": "{}",
         "name": "student_id",
         "type": "\"integer\""
        }
       ],
       "type": "table"
      }
     },
     "output_type": "display_data"
    }
   ],
   "source": [
    "%sql\n",
    "--3. List students whose names contain \"an\".\n",
    "select name,department,student_id\n",
    "from students\n",
    "where name LIKE \"%an%\""
   ]
  },
  {
   "cell_type": "code",
   "execution_count": 0,
   "metadata": {
    "application/vnd.databricks.v1+cell": {
     "cellMetadata": {
      "byteLimit": 2048000,
      "implicitDf": true,
      "rowLimit": 10000
     },
     "inputWidgets": {},
     "nuid": "60b93c59-650e-43f1-9de2-d0b69f704a8c",
     "showTitle": false,
     "tableResultSettingsMap": {},
     "title": ""
    }
   },
   "outputs": [
    {
     "output_type": "display_data",
     "data": {
      "text/html": [
       "<style scoped>\n",
       "  .table-result-container {\n",
       "    max-height: 300px;\n",
       "    overflow: auto;\n",
       "  }\n",
       "  table, th, td {\n",
       "    border: 1px solid black;\n",
       "    border-collapse: collapse;\n",
       "  }\n",
       "  th, td {\n",
       "    padding: 5px;\n",
       "  }\n",
       "  th {\n",
       "    text-align: left;\n",
       "  }\n",
       "</style><div class='table-result-container'><table class='table-result'><thead style='background-color: white'><tr><th>department</th><th>count_per_department</th></tr></thead><tbody><tr><td>ME</td><td>8</td></tr><tr><td>PSE</td><td>7</td></tr><tr><td>CSE</td><td>6</td></tr><tr><td>CIV</td><td>5</td></tr><tr><td>ECE</td><td>4</td></tr></tbody></table></div>"
      ]
     },
     "metadata": {
      "application/vnd.databricks.v1+output": {
       "addedWidgets": {},
       "aggData": [],
       "aggError": "",
       "aggOverflow": false,
       "aggSchema": [],
       "aggSeriesLimitReached": false,
       "aggType": "",
       "arguments": {},
       "columnCustomDisplayInfos": {},
       "data": [
        [
         "ME",
         8
        ],
        [
         "PSE",
         7
        ],
        [
         "CSE",
         6
        ],
        [
         "CIV",
         5
        ],
        [
         "ECE",
         4
        ]
       ],
       "datasetInfos": [
        {
         "name": "_sqldf",
         "schema": {
          "fields": [
           {
            "metadata": {
             "__CHAR_VARCHAR_TYPE_STRING": "varchar(10)"
            },
            "name": "department",
            "nullable": true,
            "type": "string"
           },
           {
            "metadata": {},
            "name": "count_per_department",
            "nullable": false,
            "type": "long"
           }
          ],
          "type": "struct"
         },
         "tableIdentifier": null,
         "typeStr": "pyspark.sql.connect.dataframe.DataFrame"
        }
       ],
       "dbfsResultPath": null,
       "isJsonSchema": true,
       "metadata": {
        "createTempViewForImplicitDf": true,
        "dataframeName": "_sqldf",
        "executionCount": 42
       },
       "overflow": false,
       "plotOptions": {
        "customPlotOptions": {},
        "displayType": "table",
        "pivotAggregation": null,
        "pivotColumns": null,
        "xColumns": null,
        "yColumns": null
       },
       "removedWidgets": [],
       "schema": [
        {
         "metadata": "{\"__CHAR_VARCHAR_TYPE_STRING\": \"varchar(10)\"}",
         "name": "department",
         "type": "\"string\""
        },
        {
         "metadata": "{}",
         "name": "count_per_department",
         "type": "\"long\""
        }
       ],
       "type": "table"
      }
     },
     "output_type": "display_data"
    }
   ],
   "source": [
    "%sql\n",
    "--4. Count how many students are in each department.\n",
    "\n",
    "select department,count(*) as count_per_department\n",
    "from students\n",
    "group by department\n",
    "order by count_per_department desc"
   ]
  },
  {
   "cell_type": "code",
   "execution_count": 0,
   "metadata": {
    "application/vnd.databricks.v1+cell": {
     "cellMetadata": {
      "byteLimit": 2048000,
      "implicitDf": true,
      "rowLimit": 10000
     },
     "inputWidgets": {},
     "nuid": "2a0ad7ea-50fa-4609-9ea6-69bc6b4eb77a",
     "showTitle": false,
     "tableResultSettingsMap": {},
     "title": ""
    }
   },
   "outputs": [
    {
     "output_type": "display_data",
     "data": {
      "text/html": [
       "<style scoped>\n",
       "  .table-result-container {\n",
       "    max-height: 300px;\n",
       "    overflow: auto;\n",
       "  }\n",
       "  table, th, td {\n",
       "    border: 1px solid black;\n",
       "    border-collapse: collapse;\n",
       "  }\n",
       "  th, td {\n",
       "    padding: 5px;\n",
       "  }\n",
       "  th {\n",
       "    text-align: left;\n",
       "  }\n",
       "</style><div class='table-result-container'><table class='table-result'><thead style='background-color: white'><tr><th>subject_name</th><th>avg(m.marks)</th></tr></thead><tbody><tr><td>Maths</td><td>71.13333333333334</td></tr><tr><td>Physics</td><td>70.76666666666667</td></tr><tr><td>Chemistry</td><td>71.26666666666667</td></tr></tbody></table></div>"
      ]
     },
     "metadata": {
      "application/vnd.databricks.v1+output": {
       "addedWidgets": {},
       "aggData": [],
       "aggError": "",
       "aggOverflow": false,
       "aggSchema": [],
       "aggSeriesLimitReached": false,
       "aggType": "",
       "arguments": {},
       "columnCustomDisplayInfos": {},
       "data": [
        [
         "Maths",
         71.13333333333334
        ],
        [
         "Physics",
         70.76666666666667
        ],
        [
         "Chemistry",
         71.26666666666667
        ]
       ],
       "datasetInfos": [
        {
         "name": "_sqldf",
         "schema": {
          "fields": [
           {
            "metadata": {
             "__CHAR_VARCHAR_TYPE_STRING": "varchar(50)"
            },
            "name": "subject_name",
            "nullable": true,
            "type": "string"
           },
           {
            "metadata": {},
            "name": "avg(m.marks)",
            "nullable": true,
            "type": "double"
           }
          ],
          "type": "struct"
         },
         "tableIdentifier": null,
         "typeStr": "pyspark.sql.connect.dataframe.DataFrame"
        }
       ],
       "dbfsResultPath": null,
       "isJsonSchema": true,
       "metadata": {
        "createTempViewForImplicitDf": true,
        "dataframeName": "_sqldf",
        "executionCount": 49
       },
       "overflow": false,
       "plotOptions": {
        "customPlotOptions": {},
        "displayType": "table",
        "pivotAggregation": null,
        "pivotColumns": null,
        "xColumns": null,
        "yColumns": null
       },
       "removedWidgets": [],
       "schema": [
        {
         "metadata": "{\"__CHAR_VARCHAR_TYPE_STRING\": \"varchar(50)\"}",
         "name": "subject_name",
         "type": "\"string\""
        },
        {
         "metadata": "{}",
         "name": "avg(m.marks)",
         "type": "\"double\""
        }
       ],
       "type": "table"
      }
     },
     "output_type": "display_data"
    }
   ],
   "source": [
    "%sql\n",
    "--5. Show subjects where the average score > 70.\n",
    "\n",
    "select sub.subject_name,avg(m.marks)\n",
    "from subjects AS sub JOIN marks As M ON sub.subject_id=M.subject_id\n",
    "group by sub.subject_name\n",
    "having avg(m.marks)>70\n"
   ]
  },
  {
   "cell_type": "code",
   "execution_count": 0,
   "metadata": {
    "application/vnd.databricks.v1+cell": {
     "cellMetadata": {
      "byteLimit": 2048000,
      "implicitDf": true,
      "rowLimit": 10000
     },
     "inputWidgets": {},
     "nuid": "4ae59529-06b5-4a76-99b0-1f634927acdf",
     "showTitle": false,
     "tableResultSettingsMap": {},
     "title": ""
    }
   },
   "outputs": [
    {
     "output_type": "display_data",
     "data": {
      "text/html": [
       "<style scoped>\n",
       "  .table-result-container {\n",
       "    max-height: 300px;\n",
       "    overflow: auto;\n",
       "  }\n",
       "  table, th, td {\n",
       "    border: 1px solid black;\n",
       "    border-collapse: collapse;\n",
       "  }\n",
       "  th, td {\n",
       "    padding: 5px;\n",
       "  }\n",
       "  th {\n",
       "    text-align: left;\n",
       "  }\n",
       "</style><div class='table-result-container'><table class='table-result'><thead style='background-color: white'><tr><th>student_id</th><th>name</th><th>marks</th><th>subject_name</th></tr></thead><tbody><tr><td>1</td><td>Aarav</td><td>32</td><td>Maths</td></tr><tr><td>6</td><td>Meera</td><td>30</td><td>English</td></tr><tr><td>7</td><td>Aryan</td><td>32</td><td>Biology</td></tr><tr><td>14</td><td>Rahul</td><td>30</td><td>Chemistry</td></tr><tr><td>16</td><td>Nikhil</td><td>31</td><td>Maths</td></tr><tr><td>20</td><td>Kiran</td><td>31</td><td>English</td></tr><tr><td>21</td><td>Neha</td><td>33</td><td>Chemistry</td></tr></tbody></table></div>"
      ]
     },
     "metadata": {
      "application/vnd.databricks.v1+output": {
       "addedWidgets": {},
       "aggData": [],
       "aggError": "",
       "aggOverflow": false,
       "aggSchema": [],
       "aggSeriesLimitReached": false,
       "aggType": "",
       "arguments": {},
       "columnCustomDisplayInfos": {},
       "data": [
        [
         1,
         "Aarav",
         32,
         "Maths"
        ],
        [
         6,
         "Meera",
         30,
         "English"
        ],
        [
         7,
         "Aryan",
         32,
         "Biology"
        ],
        [
         14,
         "Rahul",
         30,
         "Chemistry"
        ],
        [
         16,
         "Nikhil",
         31,
         "Maths"
        ],
        [
         20,
         "Kiran",
         31,
         "English"
        ],
        [
         21,
         "Neha",
         33,
         "Chemistry"
        ]
       ],
       "datasetInfos": [
        {
         "name": "_sqldf",
         "schema": {
          "fields": [
           {
            "metadata": {},
            "name": "student_id",
            "nullable": true,
            "type": "integer"
           },
           {
            "metadata": {
             "__CHAR_VARCHAR_TYPE_STRING": "varchar(50)"
            },
            "name": "name",
            "nullable": true,
            "type": "string"
           },
           {
            "metadata": {},
            "name": "marks",
            "nullable": true,
            "type": "integer"
           },
           {
            "metadata": {
             "__CHAR_VARCHAR_TYPE_STRING": "varchar(50)"
            },
            "name": "subject_name",
            "nullable": true,
            "type": "string"
           }
          ],
          "type": "struct"
         },
         "tableIdentifier": null,
         "typeStr": "pyspark.sql.connect.dataframe.DataFrame"
        }
       ],
       "dbfsResultPath": null,
       "isJsonSchema": true,
       "metadata": {
        "createTempViewForImplicitDf": true,
        "dataframeName": "_sqldf",
        "executionCount": 58
       },
       "overflow": false,
       "plotOptions": {
        "customPlotOptions": {},
        "displayType": "table",
        "pivotAggregation": null,
        "pivotColumns": null,
        "xColumns": null,
        "yColumns": null
       },
       "removedWidgets": [],
       "schema": [
        {
         "metadata": "{}",
         "name": "student_id",
         "type": "\"integer\""
        },
        {
         "metadata": "{\"__CHAR_VARCHAR_TYPE_STRING\": \"varchar(50)\"}",
         "name": "name",
         "type": "\"string\""
        },
        {
         "metadata": "{}",
         "name": "marks",
         "type": "\"integer\""
        },
        {
         "metadata": "{\"__CHAR_VARCHAR_TYPE_STRING\": \"varchar(50)\"}",
         "name": "subject_name",
         "type": "\"string\""
        }
       ],
       "type": "table"
      }
     },
     "output_type": "display_data"
    }
   ],
   "source": [
    "%sql\n",
    "--6. List students who failed in any subject (marks < 35).\n",
    "SELECT  M.student_id,S.name,M.marks,sub.subject_name\n",
    "FROM students as S join marks AS M ON s.student_id=M.student_id \n",
    "join subjects AS Sub ON M.subject_id=sub.subject_id\n",
    "WHERE M.marks<35 \n"
   ]
  },
  {
   "cell_type": "code",
   "execution_count": 0,
   "metadata": {
    "application/vnd.databricks.v1+cell": {
     "cellMetadata": {
      "byteLimit": 2048000,
      "implicitDf": true,
      "rowLimit": 10000
     },
     "inputWidgets": {},
     "nuid": "e40824c7-afef-4618-a779-21cfc8be4c7c",
     "showTitle": false,
     "tableResultSettingsMap": {},
     "title": ""
    }
   },
   "outputs": [
    {
     "output_type": "display_data",
     "data": {
      "text/html": [
       "<style scoped>\n",
       "  .table-result-container {\n",
       "    max-height: 300px;\n",
       "    overflow: auto;\n",
       "  }\n",
       "  table, th, td {\n",
       "    border: 1px solid black;\n",
       "    border-collapse: collapse;\n",
       "  }\n",
       "  th, td {\n",
       "    padding: 5px;\n",
       "  }\n",
       "  th {\n",
       "    text-align: left;\n",
       "  }\n",
       "</style><div class='table-result-container'><table class='table-result'><thead style='background-color: white'><tr><th>student_id</th><th>name</th><th>total_marks</th></tr></thead><tbody><tr><td>13</td><td>Sneha</td><td>461</td></tr><tr><td>19</td><td>Aisha</td><td>451</td></tr><tr><td>25</td><td>Shreya</td><td>415</td></tr><tr><td>29</td><td>Sanjana</td><td>408</td></tr><tr><td>3</td><td>Rohan</td><td>404</td></tr><tr><td>27</td><td>Sakshi</td><td>394</td></tr><tr><td>2</td><td>Anaya</td><td>394</td></tr><tr><td>23</td><td>Priya</td><td>383</td></tr><tr><td>26</td><td>Manav</td><td>383</td></tr><tr><td>8</td><td>Diya</td><td>379</td></tr><tr><td>6</td><td>Meera</td><td>374</td></tr><tr><td>24</td><td>Varun</td><td>371</td></tr><tr><td>28</td><td>Siddharth</td><td>369</td></tr><tr><td>4</td><td>Isha</td><td>368</td></tr><tr><td>30</td><td>Harsh</td><td>352</td></tr><tr><td>10</td><td>Kavya</td><td>339</td></tr><tr><td>12</td><td>Arjun</td><td>335</td></tr><tr><td>17</td><td>Tanya</td><td>322</td></tr><tr><td>21</td><td>Neha</td><td>314</td></tr><tr><td>18</td><td>Dev</td><td>305</td></tr><tr><td>9</td><td>Aditya</td><td>302</td></tr><tr><td>20</td><td>Kiran</td><td>301</td></tr><tr><td>14</td><td>Rahul</td><td>300</td></tr><tr><td>22</td><td>Aman</td><td>299</td></tr><tr><td>15</td><td>Pooja</td><td>296</td></tr><tr><td>5</td><td>Vihaan</td><td>294</td></tr><tr><td>16</td><td>Nikhil</td><td>277</td></tr><tr><td>7</td><td>Aryan</td><td>264</td></tr><tr><td>1</td><td>Aarav</td><td>262</td></tr><tr><td>11</td><td>Riya</td><td>215</td></tr></tbody></table></div>"
      ]
     },
     "metadata": {
      "application/vnd.databricks.v1+output": {
       "addedWidgets": {},
       "aggData": [],
       "aggError": "",
       "aggOverflow": false,
       "aggSchema": [],
       "aggSeriesLimitReached": false,
       "aggType": "",
       "arguments": {},
       "columnCustomDisplayInfos": {},
       "data": [
        [
         13,
         "Sneha",
         461
        ],
        [
         19,
         "Aisha",
         451
        ],
        [
         25,
         "Shreya",
         415
        ],
        [
         29,
         "Sanjana",
         408
        ],
        [
         3,
         "Rohan",
         404
        ],
        [
         27,
         "Sakshi",
         394
        ],
        [
         2,
         "Anaya",
         394
        ],
        [
         23,
         "Priya",
         383
        ],
        [
         26,
         "Manav",
         383
        ],
        [
         8,
         "Diya",
         379
        ],
        [
         6,
         "Meera",
         374
        ],
        [
         24,
         "Varun",
         371
        ],
        [
         28,
         "Siddharth",
         369
        ],
        [
         4,
         "Isha",
         368
        ],
        [
         30,
         "Harsh",
         352
        ],
        [
         10,
         "Kavya",
         339
        ],
        [
         12,
         "Arjun",
         335
        ],
        [
         17,
         "Tanya",
         322
        ],
        [
         21,
         "Neha",
         314
        ],
        [
         18,
         "Dev",
         305
        ],
        [
         9,
         "Aditya",
         302
        ],
        [
         20,
         "Kiran",
         301
        ],
        [
         14,
         "Rahul",
         300
        ],
        [
         22,
         "Aman",
         299
        ],
        [
         15,
         "Pooja",
         296
        ],
        [
         5,
         "Vihaan",
         294
        ],
        [
         16,
         "Nikhil",
         277
        ],
        [
         7,
         "Aryan",
         264
        ],
        [
         1,
         "Aarav",
         262
        ],
        [
         11,
         "Riya",
         215
        ]
       ],
       "datasetInfos": [
        {
         "name": "_sqldf",
         "schema": {
          "fields": [
           {
            "metadata": {},
            "name": "student_id",
            "nullable": true,
            "type": "integer"
           },
           {
            "metadata": {
             "__CHAR_VARCHAR_TYPE_STRING": "varchar(50)"
            },
            "name": "name",
            "nullable": true,
            "type": "string"
           },
           {
            "metadata": {},
            "name": "total_marks",
            "nullable": true,
            "type": "long"
           }
          ],
          "type": "struct"
         },
         "tableIdentifier": null,
         "typeStr": "pyspark.sql.connect.dataframe.DataFrame"
        }
       ],
       "dbfsResultPath": null,
       "isJsonSchema": true,
       "metadata": {
        "createTempViewForImplicitDf": true,
        "dataframeName": "_sqldf",
        "executionCount": 67
       },
       "overflow": false,
       "plotOptions": {
        "customPlotOptions": {},
        "displayType": "table",
        "pivotAggregation": null,
        "pivotColumns": null,
        "xColumns": null,
        "yColumns": null
       },
       "removedWidgets": [],
       "schema": [
        {
         "metadata": "{}",
         "name": "student_id",
         "type": "\"integer\""
        },
        {
         "metadata": "{\"__CHAR_VARCHAR_TYPE_STRING\": \"varchar(50)\"}",
         "name": "name",
         "type": "\"string\""
        },
        {
         "metadata": "{}",
         "name": "total_marks",
         "type": "\"long\""
        }
       ],
       "type": "table"
      }
     },
     "output_type": "display_data"
    }
   ],
   "source": [
    "%sql\n",
    "--7. Sort students by their total marks in descending order.\n",
    "\n",
    "select s.student_id,s.name,sum(m.marks) as total_marks\n",
    "FROM students as S join marks AS M ON s.student_id=M.student_id \n",
    "join subjects AS Sub ON M.subject_id=sub.subject_id\n",
    "group by s.student_id,s.name\n",
    "order by total_marks desc\n"
   ]
  },
  {
   "cell_type": "code",
   "execution_count": 0,
   "metadata": {
    "application/vnd.databricks.v1+cell": {
     "cellMetadata": {
      "byteLimit": 2048000,
      "implicitDf": true,
      "rowLimit": 10000
     },
     "inputWidgets": {},
     "nuid": "1458000d-5f55-43b4-bcf4-b915a4af4658",
     "showTitle": false,
     "tableResultSettingsMap": {},
     "title": ""
    }
   },
   "outputs": [
    {
     "output_type": "display_data",
     "data": {
      "text/html": [
       "<style scoped>\n",
       "  .table-result-container {\n",
       "    max-height: 300px;\n",
       "    overflow: auto;\n",
       "  }\n",
       "  table, th, td {\n",
       "    border: 1px solid black;\n",
       "    border-collapse: collapse;\n",
       "  }\n",
       "  th, td {\n",
       "    padding: 5px;\n",
       "  }\n",
       "  th {\n",
       "    text-align: left;\n",
       "  }\n",
       "</style><div class='table-result-container'><table class='table-result'><thead style='background-color: white'><tr><th>name</th><th>student_id</th><th>total_marks</th><th>rank_Holders</th></tr></thead><tbody><tr><td>Sneha</td><td>13</td><td>461</td><td>1</td></tr><tr><td>Aisha</td><td>19</td><td>451</td><td>2</td></tr><tr><td>Shreya</td><td>25</td><td>415</td><td>3</td></tr><tr><td>Sanjana</td><td>29</td><td>408</td><td>4</td></tr><tr><td>Rohan</td><td>3</td><td>404</td><td>5</td></tr><tr><td>Sakshi</td><td>27</td><td>394</td><td>6</td></tr><tr><td>Anaya</td><td>2</td><td>394</td><td>6</td></tr><tr><td>Priya</td><td>23</td><td>383</td><td>7</td></tr><tr><td>Manav</td><td>26</td><td>383</td><td>7</td></tr><tr><td>Diya</td><td>8</td><td>379</td><td>8</td></tr><tr><td>Meera</td><td>6</td><td>374</td><td>9</td></tr><tr><td>Varun</td><td>24</td><td>371</td><td>10</td></tr><tr><td>Siddharth</td><td>28</td><td>369</td><td>11</td></tr><tr><td>Isha</td><td>4</td><td>368</td><td>12</td></tr><tr><td>Harsh</td><td>30</td><td>352</td><td>13</td></tr><tr><td>Kavya</td><td>10</td><td>339</td><td>14</td></tr><tr><td>Arjun</td><td>12</td><td>335</td><td>15</td></tr><tr><td>Tanya</td><td>17</td><td>322</td><td>16</td></tr><tr><td>Neha</td><td>21</td><td>314</td><td>17</td></tr><tr><td>Dev</td><td>18</td><td>305</td><td>18</td></tr><tr><td>Aditya</td><td>9</td><td>302</td><td>19</td></tr><tr><td>Kiran</td><td>20</td><td>301</td><td>20</td></tr><tr><td>Rahul</td><td>14</td><td>300</td><td>21</td></tr><tr><td>Aman</td><td>22</td><td>299</td><td>22</td></tr><tr><td>Pooja</td><td>15</td><td>296</td><td>23</td></tr><tr><td>Vihaan</td><td>5</td><td>294</td><td>24</td></tr><tr><td>Nikhil</td><td>16</td><td>277</td><td>25</td></tr><tr><td>Aryan</td><td>7</td><td>264</td><td>26</td></tr><tr><td>Aarav</td><td>1</td><td>262</td><td>27</td></tr><tr><td>Riya</td><td>11</td><td>215</td><td>28</td></tr></tbody></table></div>"
      ]
     },
     "metadata": {
      "application/vnd.databricks.v1+output": {
       "addedWidgets": {},
       "aggData": [],
       "aggError": "",
       "aggOverflow": false,
       "aggSchema": [],
       "aggSeriesLimitReached": false,
       "aggType": "",
       "arguments": {},
       "columnCustomDisplayInfos": {},
       "data": [
        [
         "Sneha",
         13,
         461,
         1
        ],
        [
         "Aisha",
         19,
         451,
         2
        ],
        [
         "Shreya",
         25,
         415,
         3
        ],
        [
         "Sanjana",
         29,
         408,
         4
        ],
        [
         "Rohan",
         3,
         404,
         5
        ],
        [
         "Sakshi",
         27,
         394,
         6
        ],
        [
         "Anaya",
         2,
         394,
         6
        ],
        [
         "Priya",
         23,
         383,
         7
        ],
        [
         "Manav",
         26,
         383,
         7
        ],
        [
         "Diya",
         8,
         379,
         8
        ],
        [
         "Meera",
         6,
         374,
         9
        ],
        [
         "Varun",
         24,
         371,
         10
        ],
        [
         "Siddharth",
         28,
         369,
         11
        ],
        [
         "Isha",
         4,
         368,
         12
        ],
        [
         "Harsh",
         30,
         352,
         13
        ],
        [
         "Kavya",
         10,
         339,
         14
        ],
        [
         "Arjun",
         12,
         335,
         15
        ],
        [
         "Tanya",
         17,
         322,
         16
        ],
        [
         "Neha",
         21,
         314,
         17
        ],
        [
         "Dev",
         18,
         305,
         18
        ],
        [
         "Aditya",
         9,
         302,
         19
        ],
        [
         "Kiran",
         20,
         301,
         20
        ],
        [
         "Rahul",
         14,
         300,
         21
        ],
        [
         "Aman",
         22,
         299,
         22
        ],
        [
         "Pooja",
         15,
         296,
         23
        ],
        [
         "Vihaan",
         5,
         294,
         24
        ],
        [
         "Nikhil",
         16,
         277,
         25
        ],
        [
         "Aryan",
         7,
         264,
         26
        ],
        [
         "Aarav",
         1,
         262,
         27
        ],
        [
         "Riya",
         11,
         215,
         28
        ]
       ],
       "datasetInfos": [
        {
         "name": "_sqldf",
         "schema": {
          "fields": [
           {
            "metadata": {
             "__CHAR_VARCHAR_TYPE_STRING": "varchar(50)"
            },
            "name": "name",
            "nullable": true,
            "type": "string"
           },
           {
            "metadata": {},
            "name": "student_id",
            "nullable": true,
            "type": "integer"
           },
           {
            "metadata": {},
            "name": "total_marks",
            "nullable": true,
            "type": "long"
           },
           {
            "metadata": {},
            "name": "rank_Holders",
            "nullable": false,
            "type": "integer"
           }
          ],
          "type": "struct"
         },
         "tableIdentifier": null,
         "typeStr": "pyspark.sql.connect.dataframe.DataFrame"
        }
       ],
       "dbfsResultPath": null,
       "isJsonSchema": true,
       "metadata": {
        "createTempViewForImplicitDf": true,
        "dataframeName": "_sqldf",
        "executionCount": 90
       },
       "overflow": false,
       "plotOptions": {
        "customPlotOptions": {},
        "displayType": "table",
        "pivotAggregation": null,
        "pivotColumns": null,
        "xColumns": null,
        "yColumns": null
       },
       "removedWidgets": [],
       "schema": [
        {
         "metadata": "{\"__CHAR_VARCHAR_TYPE_STRING\": \"varchar(50)\"}",
         "name": "name",
         "type": "\"string\""
        },
        {
         "metadata": "{}",
         "name": "student_id",
         "type": "\"integer\""
        },
        {
         "metadata": "{}",
         "name": "total_marks",
         "type": "\"long\""
        },
        {
         "metadata": "{}",
         "name": "rank_Holders",
         "type": "\"integer\""
        }
       ],
       "type": "table"
      }
     },
     "output_type": "display_data"
    }
   ],
   "source": [
    "%sql\n",
    "--8. Use a CTE to rank students based on total marks.\n",
    "\n",
    "with total_marks AS(\n",
    "  select s.student_id,s.name,sum(m.marks) as total_marks\n",
    "FROM students as S join marks AS M ON s.student_id=M.student_id \n",
    "join subjects AS Sub ON M.subject_id=sub.subject_id\n",
    "group by s.student_id,s.name\n",
    ")\n",
    "\n",
    "\n",
    "select name,student_id,total_marks,\n",
    "dense_rank() over(order by total_marks desc)as rank_Holders\n",
    "from total_marks"
   ]
  }
 ],
 "metadata": {
  "application/vnd.databricks.v1+notebook": {
   "computePreferences": null,
   "dashboards": [],
   "environmentMetadata": {
    "base_environment": "",
    "environment_version": "2"
   },
   "inputWidgetPreferences": null,
   "language": "python",
   "notebookMetadata": {
    "mostRecentlyExecutedCommandWithImplicitDF": {
     "commandId": 5369343578496412,
     "dataframes": [
      "_sqldf"
     ]
    },
    "pythonIndentUnit": 4
   },
   "notebookName": "College_result_analysis",
   "widgets": {}
  },
  "language_info": {
   "name": "python"
  }
 },
 "nbformat": 4,
 "nbformat_minor": 0
}